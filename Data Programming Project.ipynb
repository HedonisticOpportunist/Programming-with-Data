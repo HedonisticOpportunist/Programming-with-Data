{
 "cells": [
  {
   "cell_type": "markdown",
   "id": "15fdf776",
   "metadata": {},
   "source": [
    "# Software Testing, Automation and the Job Market - a Data Programming Project\n",
    "\n",
    "#### Research Area\n",
    "The goal of this project is to analyse a given dataset from a large job board in regards to software testing roles with the emphasis of the analysis placed on what the most sought for skills are in order to shed some light on the ongoing debate on whether automation testing is going to replace manual testing (e.g __[Can Manual Testing Be Completely Replaced by Automation Testing?](https://blog.qasource.com/resources/can-manual-testing-be-completely-replaced-by-automation-testing)__). \n",
    "\n",
    "#### Research Questions\n",
    "More specifically, this project aims to answer the following questions:\n",
    "\n",
    "* What are the most popular skills required for prospective software testers?\n",
    "* Which programming languages are the most popular for test automation?\n",
    "\n",
    "#### Future Work / Project Limitations \n",
    "\n",
    "Some questions that are interesting, but are out of scope for this project are the the ones below:\n",
    "\n",
    "* How many job adverts mention a combination of manual and test automation both in their description?\n",
    "* How many job descriptions mention training / upskilling?\n",
    "* How many jobs exclusively focus on either manual or automation?\n",
    "\n",
    "The reason why these problems are out of scope is because the data set used in this project is limited in terms of geographical region. Additionally, for the questions listed above a much larger dataset would be required in order to come up with a sensible analysis. Indeed -- even with a larger dataset -- the work would still be limited to one language, and this excludes analysis from countries such as China or South Korea.\n",
    "\n",
    "Of course, one can limit the project to a specific language or region, but this kind of project still requires a large dataset that takes into consideration where the jobs are located (rural areas may have less to offer than urban ones), what time period they were posted in as well, what seniority level they address and which area of testing they are focused (e.g. performance testing). The deeper one dives into the topic, the more likely one is to find irregularities and different demands, which would make it difficult to generalise-- at least without performing some thorough analysis using metrics that are performed over a specific length of time. \n",
    "\n",
    "Also, the time required to answer such questions would be important as well: technology is in a constant state of flux, and it would be important to analyse job boards throughout a given period, with the focus placed in which areas change is happening the most and keeping an eye on how quickly some trends are growing.\n",
    "\n",
    "#### Motivation\n",
    "The motivation behind this specific area of research stems from my job as a QA where I have worked with both automation and manual testing tools. While I personally believe that a good software tester has skills in __[both white box and black box testing](https://www.geeksforgeeks.org/differences-between-black-box-testing-vs-white-box-testing/)__, I am keen to find out what philosophy the job board is leaning towards with data from job boards serving as a good basis for me to embrace this topic on a practical level. \n",
    "\n",
    "Moreover, I used to work for a software house that focused on gathering data for recruitment companies. During that time, I used to dabble a bit in job board searches in order to garner what the expectations / trends for software testers were. In fact, some of the observations related to the limits of the project come from direct exposure related to analysing data and working in relation to gathering such data.  \n",
    "\n",
    "#### Previous Exploration of the Topic \n",
    "While __[many articles ](https://www.infoq.com/test-automation/articles/)__ have been and continue to be published on the subject already, I have not seen any students discussing this topic in our university slack channel or express much interest in software testing otherwise. \n",
    "\n",
    "Outside of the internet, there are __[also many workshops and courses available on automation testing](https://www.theknowledgeacademy.com/courses/automation-and-penetration-testing/fundamentals-of-test-automation-/bristol/)__ with their main focus being upskilling of manual testers, which proves how important automation is as a skill set for budding software testers.  \n",
    "\n",
    "\n",
    "#### Acquisition of the Data Set\n",
    "The dataset gathered comes from job boards that have public APIs available for web crawling purposes. In particular, the site \n",
    "__[The Programmable Web](https://www.programmableweb.com/news/top-10-jobs-apis-2021/brief/2021/06/30)__ proved to be a valuable source for finding APIs that were free and did not require any prior set up. The ethical implications on the data set being used will be discussed during a later stage of this document. "
   ]
  },
  {
   "cell_type": "code",
   "execution_count": null,
   "id": "209987c1",
   "metadata": {},
   "outputs": [],
   "source": []
  },
  {
   "cell_type": "code",
   "execution_count": null,
   "id": "7f21ab6c",
   "metadata": {},
   "outputs": [],
   "source": []
  }
 ],
 "metadata": {
  "kernelspec": {
   "display_name": "Python 3",
   "language": "python",
   "name": "python3"
  },
  "language_info": {
   "codemirror_mode": {
    "name": "ipython",
    "version": 3
   },
   "file_extension": ".py",
   "mimetype": "text/x-python",
   "name": "python",
   "nbconvert_exporter": "python",
   "pygments_lexer": "ipython3",
   "version": "3.8.8"
  }
 },
 "nbformat": 4,
 "nbformat_minor": 5
}
