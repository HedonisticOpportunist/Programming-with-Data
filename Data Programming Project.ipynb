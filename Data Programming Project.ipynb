{
 "cells": [
  {
   "cell_type": "markdown",
   "id": "15fdf776",
   "metadata": {},
   "source": [
    "# Software Testing and Automation - A Data Programming Project\n",
    "\n",
    "#### Research Area\n",
    "The goal of this project is to analyse a given dataset from various job boards in regards to software testing roles with the emphasis of the analysis placed on what the most sought for skills are and whether the ongoing debate on automation testing being better than manual testing is justified (e.g __[Can Manual Testing Be Completely Replaced by Automation Testing?](https://blog.qasource.com/resources/can-manual-testing-be-completely-replaced-by-automation-testing)__). \n",
    "\n",
    "#### Research Questions\n",
    "More specifically, this project aims to answer the following questions: \n",
    "* What are the most popular skills required for prospective software testers? \n",
    "* Which programming languages are most popular for test automation?\n",
    "* How many job boards use a combination of manual and test automation both?\n",
    "* How many jobs offer on the job training / upskilling?\n",
    "* Which jobs exclusively focus on either manual or automation?\n",
    "\n",
    "#### Motivation\n",
    "The motivation behind this specific area of research stems from my job as a QA who has worked with both automation and manual testing tools. While I personally believe that a good software tester has skills in __[both white box and black box testing](https://www.geeksforgeeks.org/differences-between-black-box-testing-vs-white-box-testing/)__, I am keen to find out what philosophy the job board is leaning towards with data from job boards serving as a good basis for me to embrace this topic on a practical level. \n",
    "\n",
    "Moreover, I used to work for a software house that focused on gathering data for recruitment companies. During that time, I used to dabble a bit in job board searches and what the expectations / trends for software testers were. So, in the long run, this project is a dream come true. \n",
    "\n",
    "#### Previous Exploration of the Topic \n",
    "While __[many articles ](https://www.infoq.com/test-automation/articles/)__ have been and continue to be published on the subject already, I have not seen any students discussing this topic in our university slack channel or express much interest in software testing otherwise. There are also many workshops and courses available on automation testing, with their main focus being upskilling of manual testers. \n",
    "\n",
    "\n",
    "#### Acquisition of the Data Set\n",
    "The dataset gathered comes from job boards that have public APIs available for web crawling purposes. In particular, the site \n",
    "__[The Programmable Web](https://www.programmableweb.com/news/top-10-jobs-apis-2021/brief/2021/06/30)__ proved to be a valuable source for finding APIs that were free and did not require any prior set up. The ethical implications on the data set being used will be discussed during a later stage of this document. "
   ]
  },
  {
   "cell_type": "code",
   "execution_count": null,
   "id": "209987c1",
   "metadata": {},
   "outputs": [],
   "source": []
  }
 ],
 "metadata": {
  "kernelspec": {
   "display_name": "Python 3",
   "language": "python",
   "name": "python3"
  },
  "language_info": {
   "codemirror_mode": {
    "name": "ipython",
    "version": 3
   },
   "file_extension": ".py",
   "mimetype": "text/x-python",
   "name": "python",
   "nbconvert_exporter": "python",
   "pygments_lexer": "ipython3",
   "version": "3.8.8"
  }
 },
 "nbformat": 4,
 "nbformat_minor": 5
}
